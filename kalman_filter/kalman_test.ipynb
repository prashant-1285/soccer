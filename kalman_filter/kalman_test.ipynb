{
 "cells": [
  {
   "cell_type": "code",
   "execution_count": 115,
   "metadata": {},
   "outputs": [],
   "source": [
    "import cv2\n",
    "import numpy as np\n",
    "from matplotlib import pyplot as plt\n",
    "import pandas as pd"
   ]
  },
  {
   "cell_type": "code",
   "execution_count": 112,
   "metadata": {},
   "outputs": [
    {
     "name": "stdout",
     "output_type": "stream",
     "text": [
      "[(50, 400), (100, 300), (150, 220), (200, 160), (250, 120), (320, 100)]\n"
     ]
    },
    {
     "data": {
      "text/plain": [
       "<matplotlib.image.AxesImage at 0x76dde80c80d0>"
      ]
     },
     "execution_count": 112,
     "metadata": {},
     "output_type": "execute_result"
    },
    {
     "data": {
      "image/png": "[encoded data removed]",
      "text/plain": [
       "<Figure size 1000x600 with 1 Axes>"
      ]
     },
     "metadata": {},
     "output_type": "display_data"
    }
   ],
   "source": [
    "# Improved Kalman Filter Example\n",
    "import random\n",
    "\n",
    "\n",
    "# Initialization\n",
    "dt = 0.01\n",
    "process_noise_cov = 0.1\n",
    "measurement_noise_cov = 0.5\n",
    "error_cov_post = 0.2\n",
    "error_cov_pre = 0.1\n",
    "kalman_2d = cv2.KalmanFilter(4, 2)\n",
    "kalman_2d.measurementMatrix = np.array([[1, 0, 0, 0], [0, 1, 0, 0]], np.float32)\n",
    "kalman_2d.transitionMatrix = np.array([[1, 0, dt, 0], [0, 1, 0, dt], [0, 0, 1, 0], [0, 0, 0, 1]], np.float32)\n",
    "kalman_2d.processNoiseCov = np.array([[1, 0, 0, 0], [0, 1, 0, 0], [0, 0, 1, 0], [0, 0, 0, 1]], np.float32) * process_noise_cov\n",
    "kalman_2d.measurementNoiseCov = np.array([[1, 0], [0, 1]], np.float32) * measurement_noise_cov\n",
    "kalman_2d.errorCovPost = np.array([[1, 0, 0, 0], [0, 1, 0, 0], [0, 0, 1, 0], [0, 0, 0, 1]], np.float32) * error_cov_post\n",
    "kalman_2d.errorCovPre = np.array([[1, 0, 0, 0], [0, 1, 0, 0], [0, 0, 1, 0], [0, 0, 0, 1]], np.float32) * error_cov_pre        \n",
    "x=50\n",
    "y=400\n",
    "kalman_2d.statePre = np.array([x, y, 0, 0], np.float32)\n",
    "kalman_2d.statePost = np.array([x, y, 0, 0], np.float32)\n",
    "\n",
    "\n",
    "# Parameters for the parabola\n",
    "a = 0.01  # Steepness\n",
    "h, k = 250, 250  # Vertex adjusted to center the parabola in the image\n",
    "x_values = np.linspace(50, 450, 5)  # X-coordinates\n",
    "\n",
    "# Generate the corresponding Y-coordinates\n",
    "y_values = a * (x_values - h) ** 2 + k\n",
    "\n",
    "# Clip values to ensure all coordinates fit within the image bounds\n",
    "x_values = np.clip(x_values, 0, 499)\n",
    "y_values = np.clip(y_values, 0, 499)\n",
    "\n",
    "# Combine X and Y into an array of positions\n",
    "ball_positions = [    (50, 400),    (100, 300),    (150, 220),    (200, 160),    (250, 120),   (320, 100),  ]\n",
    "\n",
    "print(ball_positions)\n",
    "image = np.ones((500, 500, 3), dtype=\"uint8\")\n",
    "\n",
    "for i,coord in enumerate(ball_positions):\n",
    "    # Predict\n",
    "    predicted = kalman_2d.predict()\n",
    "    predicted_x, predicted_y = int(predicted[0]), int(predicted[1])\n",
    "    \n",
    "    # Correct\n",
    "    if i<=3:\n",
    "        kalman_2d.correct(np.array([[np.float32(coord[0])], [np.float32(coord[1])]]))\n",
    "\n",
    "    # Visualization\n",
    "    cv2.circle(image, (int(coord[0]), int(coord[1])), 8, (255, 0, 255), 2)  # Measured position\n",
    "    #cv2.circle(image, (predicted_x, predicted_y), 8, (0, 0, 255), 2)        # Predicted position\n",
    "\n",
    "plt.figure(figsize=(10, 6))\n",
    "plt.imshow(image)"
   ]
  },
  {
   "cell_type": "code",
   "execution_count": 113,
   "metadata": {},
   "outputs": [
    {
     "name": "stdout",
     "output_type": "stream",
     "text": [
      "pred coords 134 257\n",
      "pred coords 134 256\n",
      "pred coords 134 256\n",
      "pred coords 134 256\n",
      "pred coords 134 256\n"
     ]
    },
    {
     "data": {
      "text/plain": [
       "<matplotlib.image.AxesImage at 0x76dde80aa280>"
      ]
     },
     "execution_count": 113,
     "metadata": {},
     "output_type": "execute_result"
    },
    {
     "data": {
      "image/png": "[encoded data removed]",
      "text/plain": [
       "<Figure size 1000x600 with 1 Axes>"
      ]
     },
     "metadata": {},
     "output_type": "display_data"
    }
   ],
   "source": [
    "# predict few more states now\n",
    "for i in range(5):\n",
    "    predicted = kalman_2d.predict()\n",
    "    predicted_x, predicted_y = int(predicted[0]), int(predicted[1])\n",
    "    cv2.circle(image, (predicted_x, predicted_y), 8, (0, 0, 255), 2)        # Predicted position\n",
    "    print(\"pred coords\",predicted_x,predicted_y)\n",
    "plt.figure(figsize=(10, 6))\n",
    "plt.imshow(image)"
   ]
  },
  {
   "cell_type": "code",
   "execution_count": 141,
   "metadata": {},
   "outputs": [],
   "source": [
    "ball_positions = [(50, 400), (100, 300), (150, 220), None, (250, 120), (320, 100),None,None]\n",
    "\n",
    "# Create a DataFrame\n",
    "df_ball_positions = pd.DataFrame(ball_positions, columns=[\"x\", \"y\"])\n",
    "# Interpolate missing values\n",
    "df_ball_positions = df_ball_positions.interpolate()\n",
    "df_ball_positions = df_ball_positions.bfill()\n"
   ]
  },
  {
   "cell_type": "code",
   "execution_count": 142,
   "metadata": {},
   "outputs": [
    {
     "data": {
      "text/html": [
       "<div>\n",
       "<style scoped>\n",
       "    .dataframe tbody tr th:only-of-type {\n",
       "        vertical-align: middle;\n",
       "    }\n",
       "\n",
       "    .dataframe tbody tr th {\n",
       "        vertical-align: top;\n",
       "    }\n",
       "\n",
       "    .dataframe thead th {\n",
       "        text-align: right;\n",
       "    }\n",
       "</style>\n",
       "<table border=\"1\" class=\"dataframe\">\n",
       "  <thead>\n",
       "    <tr style=\"text-align: right;\">\n",
       "      <th></th>\n",
       "      <th>x</th>\n",
       "      <th>y</th>\n",
       "    </tr>\n",
       "  </thead>\n",
       "  <tbody>\n",
       "    <tr>\n",
       "      <th>0</th>\n",
       "      <td>50.0</td>\n",
       "      <td>400.0</td>\n",
       "    </tr>\n",
       "    <tr>\n",
       "      <th>1</th>\n",
       "      <td>100.0</td>\n",
       "      <td>300.0</td>\n",
       "    </tr>\n",
       "    <tr>\n",
       "      <th>2</th>\n",
       "      <td>150.0</td>\n",
       "      <td>220.0</td>\n",
       "    </tr>\n",
       "    <tr>\n",
       "      <th>3</th>\n",
       "      <td>200.0</td>\n",
       "      <td>170.0</td>\n",
       "    </tr>\n",
       "    <tr>\n",
       "      <th>4</th>\n",
       "      <td>250.0</td>\n",
       "      <td>120.0</td>\n",
       "    </tr>\n",
       "    <tr>\n",
       "      <th>5</th>\n",
       "      <td>320.0</td>\n",
       "      <td>100.0</td>\n",
       "    </tr>\n",
       "    <tr>\n",
       "      <th>6</th>\n",
       "      <td>320.0</td>\n",
       "      <td>100.0</td>\n",
       "    </tr>\n",
       "    <tr>\n",
       "      <th>7</th>\n",
       "      <td>320.0</td>\n",
       "      <td>100.0</td>\n",
       "    </tr>\n",
       "  </tbody>\n",
       "</table>\n",
       "</div>"
      ],
      "text/plain": [
       "       x      y\n",
       "0   50.0  400.0\n",
       "1  100.0  300.0\n",
       "2  150.0  220.0\n",
       "3  200.0  170.0\n",
       "4  250.0  120.0\n",
       "5  320.0  100.0\n",
       "6  320.0  100.0\n",
       "7  320.0  100.0"
      ]
     },
     "execution_count": 142,
     "metadata": {},
     "output_type": "execute_result"
    }
   ],
   "source": [
    "df_ball_positions.head(9)"
   ]
  },
  {
   "cell_type": "code",
   "execution_count": 143,
   "metadata": {},
   "outputs": [
    {
     "name": "stdout",
     "output_type": "stream",
     "text": [
      "[(50.0, 400.0), (100.0, 300.0), (150.0, 220.0), (200.0, 170.0), (250.0, 120.0), (320.0, 100.0), (320.0, 100.0), (320.0, 100.0)]\n"
     ]
    }
   ],
   "source": [
    "\n",
    "ball_pos = list(df_ball_positions.itertuples(index=False, name=None))\n",
    "\n",
    "print(ball_pos)\n",
    "\n",
    "\n"
   ]
  },
  {
   "cell_type": "code",
   "execution_count": 144,
   "metadata": {},
   "outputs": [
    {
     "data": {
      "text/plain": [
       "<matplotlib.image.AxesImage at 0x76dd4a138fa0>"
      ]
     },
     "execution_count": 144,
     "metadata": {},
     "output_type": "execute_result"
    },
    {
     "data": {
      "image/png": "[encoded data removed]",
      "text/plain": [
       "<Figure size 1000x600 with 1 Axes>"
      ]
     },
     "metadata": {},
     "output_type": "display_data"
    }
   ],
   "source": [
    "image = np.ones((500, 500, 3), dtype=\"uint8\")\n",
    "for i,coord in enumerate(ball_positions):\n",
    "        # Visualization\n",
    "    if not coord==None:\n",
    "        cv2.circle(image, (int(coord[0]), int(coord[1])), 8, (255, 0, 255), 2)  # Measured position\n",
    "    #cv2.circle(image, (predicted_x, predicted_y), 8, (0, 0, 255), 2)        # Predicted position\n",
    "\n",
    "plt.figure(figsize=(10, 6))\n",
    "plt.imshow(image)"
   ]
  },
  {
   "cell_type": "code",
   "execution_count": 145,
   "metadata": {},
   "outputs": [
    {
     "data": {
      "text/plain": [
       "<matplotlib.image.AxesImage at 0x76dd4a0bb400>"
      ]
     },
     "execution_count": 145,
     "metadata": {},
     "output_type": "execute_result"
    },
    {
     "data": {
      "image/png": "[encoded data removed]",
      "text/plain": [
       "<Figure size 1000x600 with 1 Axes>"
      ]
     },
     "metadata": {},
     "output_type": "display_data"
    }
   ],
   "source": [
    "image = np.ones((500, 500, 3), dtype=\"uint8\")\n",
    "for i,coord in enumerate(ball_pos):\n",
    "        # Visualization\n",
    "    cv2.circle(image, (int(coord[0]), int(coord[1])), 8, (255, 0, 0), 2)  # Measured position\n",
    "    #cv2.circle(image, (predicted_x, predicted_y), 8, (0, 0, 255), 2)        # Predicted position\n",
    "\n",
    "plt.figure(figsize=(10, 6))\n",
    "plt.imshow(image)"
   ]
  },
  {
   "cell_type": "code",
   "execution_count": null,
   "metadata": {},
   "outputs": [],
   "source": []
  }
 ],
 "metadata": {
  "kernelspec": {
   "display_name": "foot_analysis",
   "language": "python",
   "name": "python3"
  },
  "language_info": {
   "codemirror_mode": {
    "name": "ipython",
    "version": 3
   },
   "file_extension": ".py",
   "mimetype": "text/x-python",
   "name": "python",
   "nbconvert_exporter": "python",
   "pygments_lexer": "ipython3",
   "version": "3.8.19"
  }
 },
 "nbformat": 4,
 "nbformat_minor": 2
}
