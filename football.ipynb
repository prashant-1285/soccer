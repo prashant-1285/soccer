{
 "cells": [
  {
   "cell_type": "code",
   "execution_count": 1,
   "metadata": {},
   "outputs": [
    {
     "name": "stdout",
     "output_type": "stream",
     "text": [
      "0.22.0\n"
     ]
    }
   ],
   "source": [
    "from ultralytics import YOLO\n",
    "import numpy as np\n",
    "import pandas as pd\n",
    "from matplotlib import pyplot as plt\n",
    "import cv2\n",
    "import skimage\n",
    "from PIL import Image\n",
    "\n",
    "from sklearn.metrics import mean_squared_error\n",
    "\n",
    "import json\n",
    "import yaml\n",
    "import time\n",
    "import supervision as sv\n",
    "from inference import get_model\n",
    "print(sv.__version__)"
   ]
  },
  {
   "cell_type": "code",
   "execution_count": 2,
   "metadata": {},
   "outputs": [],
   "source": [
    "src=\"./testvid.mp4\"\n",
    "target=\"./out.mp4\""
   ]
  },
  {
   "cell_type": "code",
   "execution_count": 3,
   "metadata": {},
   "outputs": [
    {
     "name": "stderr",
     "output_type": "stream",
     "text": [
      "UserWarning: Specified provider 'CUDAExecutionProvider' is not in available provider names.Available providers: 'AzureExecutionProvider, CPUExecutionProvider'\n",
      "UserWarning: Specified provider 'OpenVINOExecutionProvider' is not in available provider names.Available providers: 'AzureExecutionProvider, CPUExecutionProvider'\n",
      "UserWarning: Specified provider 'CoreMLExecutionProvider' is not in available provider names.Available providers: 'AzureExecutionProvider, CPUExecutionProvider'\n"
     ]
    },
    {
     "ename": "TypeError",
     "evalue": "__init__() got an unexpected keyword argument 'overlap_filter'",
     "output_type": "error",
     "traceback": [
      "\u001b[0;31m---------------------------------------------------------------------------\u001b[0m",
      "\u001b[0;31mTypeError\u001b[0m                                 Traceback (most recent call last)",
      "Cell \u001b[0;32mIn[3], line 35\u001b[0m\n\u001b[1;32m     32\u001b[0m     result \u001b[38;5;241m=\u001b[39m model\u001b[38;5;241m.\u001b[39minfer(frame, confidence\u001b[38;5;241m=\u001b[39m\u001b[38;5;241m0.3\u001b[39m)[\u001b[38;5;241m0\u001b[39m]\n\u001b[1;32m     33\u001b[0m     \u001b[38;5;28;01mreturn\u001b[39;00m sv\u001b[38;5;241m.\u001b[39mDetections\u001b[38;5;241m.\u001b[39mfrom_inference(result)\n\u001b[0;32m---> 35\u001b[0m slicer \u001b[38;5;241m=\u001b[39m \u001b[43msv\u001b[49m\u001b[38;5;241;43m.\u001b[39;49m\u001b[43mInferenceSlicer\u001b[49m\u001b[43m(\u001b[49m\n\u001b[1;32m     36\u001b[0m \u001b[43m    \u001b[49m\u001b[43mcallback\u001b[49m\u001b[43m \u001b[49m\u001b[38;5;241;43m=\u001b[39;49m\u001b[43m \u001b[49m\u001b[43mcallback\u001b[49m\u001b[43m,\u001b[49m\n\u001b[1;32m     37\u001b[0m \u001b[43m    \u001b[49m\u001b[43moverlap_filter\u001b[49m\u001b[43m \u001b[49m\u001b[38;5;241;43m=\u001b[39;49m\u001b[43m \u001b[49m\u001b[43msv\u001b[49m\u001b[38;5;241;43m.\u001b[39;49m\u001b[43mOverlapFilter\u001b[49m\u001b[38;5;241;43m.\u001b[39;49m\u001b[43mNON_MAX_SUPPRESSION\u001b[49m\u001b[43m,\u001b[49m\n\u001b[1;32m     38\u001b[0m \u001b[43m    \u001b[49m\u001b[43mslice_wh\u001b[49m\u001b[43m \u001b[49m\u001b[38;5;241;43m=\u001b[39;49m\u001b[43m \u001b[49m\u001b[43m(\u001b[49m\u001b[43mw\u001b[49m\u001b[43m \u001b[49m\u001b[38;5;241;43m/\u001b[39;49m\u001b[38;5;241;43m/\u001b[39;49m\u001b[43m \u001b[49m\u001b[38;5;241;43m2\u001b[39;49m\u001b[43m \u001b[49m\u001b[38;5;241;43m+\u001b[39;49m\u001b[43m \u001b[49m\u001b[38;5;241;43m100\u001b[39;49m\u001b[43m,\u001b[49m\u001b[43m \u001b[49m\u001b[43mh\u001b[49m\u001b[43m \u001b[49m\u001b[38;5;241;43m/\u001b[39;49m\u001b[38;5;241;43m/\u001b[39;49m\u001b[43m \u001b[49m\u001b[38;5;241;43m2\u001b[39;49m\u001b[43m \u001b[49m\u001b[38;5;241;43m+\u001b[39;49m\u001b[43m \u001b[49m\u001b[38;5;241;43m100\u001b[39;49m\u001b[43m)\u001b[49m\u001b[43m,\u001b[49m\n\u001b[1;32m     39\u001b[0m \u001b[43m    \u001b[49m\u001b[43moverlap_ratio_wh\u001b[49m\u001b[43m \u001b[49m\u001b[38;5;241;43m=\u001b[39;49m\u001b[43m \u001b[49m\u001b[38;5;28;43;01mNone\u001b[39;49;00m\u001b[43m,\u001b[49m\n\u001b[1;32m     40\u001b[0m \u001b[43m    \u001b[49m\u001b[43moverlap_wh\u001b[49m\u001b[43m \u001b[49m\u001b[38;5;241;43m=\u001b[39;49m\u001b[43m \u001b[49m\u001b[43m(\u001b[49m\u001b[38;5;241;43m100\u001b[39;49m\u001b[43m,\u001b[49m\u001b[43m \u001b[49m\u001b[38;5;241;43m100\u001b[39;49m\u001b[43m)\u001b[49m\u001b[43m,\u001b[49m\n\u001b[1;32m     41\u001b[0m \u001b[43m    \u001b[49m\u001b[43miou_threshold\u001b[49m\u001b[43m \u001b[49m\u001b[38;5;241;43m=\u001b[39;49m\u001b[43m \u001b[49m\u001b[38;5;241;43m0.1\u001b[39;49m\n\u001b[1;32m     42\u001b[0m \u001b[43m)\u001b[49m\n\u001b[1;32m     44\u001b[0m annotator \u001b[38;5;241m=\u001b[39m sv\u001b[38;5;241m.\u001b[39mTriangleAnnotator(\n\u001b[1;32m     45\u001b[0m     color\u001b[38;5;241m=\u001b[39msv\u001b[38;5;241m.\u001b[39mColor\u001b[38;5;241m.\u001b[39mfrom_hex(\u001b[38;5;124m'\u001b[39m\u001b[38;5;124m#FF1493\u001b[39m\u001b[38;5;124m'\u001b[39m),\n\u001b[1;32m     46\u001b[0m     height\u001b[38;5;241m=\u001b[39m\u001b[38;5;241m20\u001b[39m,\n\u001b[1;32m     47\u001b[0m     base\u001b[38;5;241m=\u001b[39m\u001b[38;5;241m25\u001b[39m\n\u001b[1;32m     48\u001b[0m )\n\u001b[1;32m     50\u001b[0m tracker \u001b[38;5;241m=\u001b[39m BallTracker()\n",
      "\u001b[0;31mTypeError\u001b[0m: __init__() got an unexpected keyword argument 'overlap_filter'"
     ]
    }
   ],
   "source": [
    "import supervision as sv\n",
    "from inference import get_model\n",
    "import sink\n",
    "from collections import deque\n",
    "\n",
    "class BallTracker:\n",
    "    def __init__(self, buffer_size: int = 10):\n",
    "        self.buffer = deque(maxlen=buffer_size)\n",
    "\n",
    "    def update(self, detections: sv.Detections) -> sv.Detections:\n",
    "        xy = detections.get_anchors_coordinates(sv.Position.CENTER)\n",
    "        self.buffer.append(xy)\n",
    "\n",
    "        if len(detections) == 0:\n",
    "            return detections\n",
    "\n",
    "        centroid = np.mean(np.concatenate(self.buffer), axis=0)\n",
    "        distances = np.linalg.norm(xy - centroid, axis=1)\n",
    "        index = np.argmin(distances)\n",
    "        return detections[[index]]\n",
    "\n",
    "model = get_model(\n",
    "    model_id=\"football-ball-detection-rejhg/4\", \n",
    "    api_key=\"fpgo7lotAA2MTZARBCtt\"\n",
    ")\n",
    "\n",
    "video_info = sv.VideoInfo.from_video_path(src)\n",
    "frame_generator = sv.get_video_frames_generator(src)\n",
    "w, h = video_info.width, video_info.height\n",
    "\n",
    "def callback(patch: np.ndarray) -> sv.Detections: \n",
    "    result = model.infer(frame, confidence=0.3)[0]\n",
    "    return sv.Detections.from_inference(result)\n",
    "\n",
    "slicer = sv.InferenceSlicer(\n",
    "    callback = callback,\n",
    "    overlap_filter = sv.OverlapFilter.NON_MAX_SUPPRESSION,\n",
    "    slice_wh = (w // 2 + 100, h // 2 + 100),\n",
    "    overlap_ratio_wh = None,\n",
    "    overlap_wh = (100, 100),\n",
    "    iou_threshold = 0.1\n",
    ")\n",
    "\n",
    "annotator = sv.TriangleAnnotator(\n",
    "    color=sv.Color.from_hex('#FF1493'),\n",
    "    height=20,\n",
    "    base=25\n",
    ")\n",
    "\n",
    "tracker = BallTracker()\n",
    "count=0\n",
    "with sv.VideoSink(target, video_info=video_info) as sink:\n",
    "    for frame in frame_generator:\n",
    "        detections = slicer(frame)\n",
    "        detections = tracker.update(detections)\n",
    "        print('--detection--',detections)\n",
    "        frame = annotator.annotate(scene=frame, detections=detections)\n",
    "        sink.write_frame(frame)\n",
    "        count+=1\n",
    "        if count==10:\n",
    "            break"
   ]
  },
  {
   "cell_type": "code",
   "execution_count": null,
   "metadata": {},
   "outputs": [],
   "source": []
  }
 ],
 "metadata": {
  "kernelspec": {
   "display_name": "soccer",
   "language": "python",
   "name": "python3"
  },
  "language_info": {
   "codemirror_mode": {
    "name": "ipython",
    "version": 3
   },
   "file_extension": ".py",
   "mimetype": "text/x-python",
   "name": "python",
   "nbconvert_exporter": "python",
   "pygments_lexer": "ipython3",
   "version": "3.8.20"
  }
 },
 "nbformat": 4,
 "nbformat_minor": 2
}
