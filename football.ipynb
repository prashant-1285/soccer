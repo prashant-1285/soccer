{
 "cells": [
  {
   "cell_type": "code",
   "execution_count": 5,
   "metadata": {},
   "outputs": [
    {
     "name": "stdout",
     "output_type": "stream",
     "text": [
      "0.25.0\n"
     ]
    }
   ],
   "source": [
    "from ultralytics import YOLO\n",
    "import numpy as np\n",
    "import pandas as pd\n",
    "from matplotlib import pyplot as plt\n",
    "import cv2\n",
    "import skimage\n",
    "from PIL import Image\n",
    "\n",
    "from sklearn.metrics import mean_squared_error\n",
    "\n",
    "import json\n",
    "import yaml\n",
    "import time\n",
    "import supervision as sv\n",
    "from inference import get_model\n",
    "print(sv.__version__)"
   ]
  },
  {
   "cell_type": "code",
   "execution_count": 6,
   "metadata": {},
   "outputs": [],
   "source": [
    "src=\"./testvid.mp4\"\n",
    "target=\"./out.mp4\""
   ]
  },
  {
   "cell_type": "code",
   "execution_count": 8,
   "metadata": {},
   "outputs": [
    {
     "name": "stderr",
     "output_type": "stream",
     "text": [
      "UserWarning: Specified provider 'CUDAExecutionProvider' is not in available provider names.Available providers: 'AzureExecutionProvider, CPUExecutionProvider'\n",
      "UserWarning: Specified provider 'OpenVINOExecutionProvider' is not in available provider names.Available providers: 'AzureExecutionProvider, CPUExecutionProvider'\n",
      "UserWarning: Specified provider 'CoreMLExecutionProvider' is not in available provider names.Available providers: 'AzureExecutionProvider, CPUExecutionProvider'\n"
     ]
    },
    {
     "name": "stdout",
     "output_type": "stream",
     "text": [
      "--detection-- Detections(xyxy=array([[        325,         425,         338,         437]]), mask=None, confidence=array([    0.46147]), class_id=array([0]), tracker_id=None, data={'class_name': array(['ball'], dtype='<U4')}, metadata={})\n",
      "--detection-- Detections(xyxy=array([[        334,         432,         347,         445]]), mask=None, confidence=array([      0.601]), class_id=array([0]), tracker_id=None, data={'class_name': array(['ball'], dtype='<U4')}, metadata={})\n",
      "--detection-- Detections(xyxy=array([[        342,         438,         354,         451]]), mask=None, confidence=array([    0.77967]), class_id=array([0]), tracker_id=None, data={'class_name': array(['ball'], dtype='<U4')}, metadata={})\n",
      "--detection-- Detections(xyxy=array([[        350,         445,         362,         458]]), mask=None, confidence=array([    0.71821]), class_id=array([0]), tracker_id=None, data={'class_name': array(['ball'], dtype='<U4')}, metadata={})\n",
      "--detection-- Detections(xyxy=array([[        357,         451,         370,         465]]), mask=None, confidence=array([    0.67666]), class_id=array([0]), tracker_id=None, data={'class_name': array(['ball'], dtype='<U4')}, metadata={})\n",
      "--detection-- Detections(xyxy=array([[        357,         451,         370,         465]]), mask=None, confidence=array([    0.67666]), class_id=array([0]), tracker_id=None, data={'class_name': array(['ball'], dtype='<U4')}, metadata={})\n",
      "--detection-- Detections(xyxy=array([[        364,         459,         377,         472]]), mask=None, confidence=array([    0.51265]), class_id=array([0]), tracker_id=None, data={'class_name': array(['ball'], dtype='<U4')}, metadata={})\n",
      "--detection-- Detections(xyxy=array([[        371,         466,         384,         478]]), mask=None, confidence=array([    0.72655]), class_id=array([0]), tracker_id=None, data={'class_name': array(['ball'], dtype='<U4')}, metadata={})\n",
      "--detection-- Detections(xyxy=array([], shape=(0, 4), dtype=float32), mask=None, confidence=array([], dtype=float32), class_id=array([], dtype=int64), tracker_id=None, data={}, metadata={})\n",
      "--detection-- Detections(xyxy=array([[        383,         477,         397,         491]]), mask=None, confidence=array([    0.35027]), class_id=array([0]), tracker_id=None, data={'class_name': array(['ball'], dtype='<U4')}, metadata={})\n"
     ]
    }
   ],
   "source": [
    "import supervision as sv\n",
    "from inference import get_model\n",
    "import sink\n",
    "from collections import deque\n",
    "\n",
    "class BallTracker:\n",
    "    def __init__(self, buffer_size: int = 10):\n",
    "        self.buffer = deque(maxlen=buffer_size)\n",
    "\n",
    "    def update(self, detections: sv.Detections) -> sv.Detections:\n",
    "        xy = detections.get_anchors_coordinates(sv.Position.CENTER)\n",
    "        self.buffer.append(xy)\n",
    "\n",
    "        if len(detections) == 0:\n",
    "            return detections\n",
    "\n",
    "        centroid = np.mean(np.concatenate(self.buffer), axis=0)\n",
    "        distances = np.linalg.norm(xy - centroid, axis=1)\n",
    "        index = np.argmin(distances)\n",
    "        return detections[[index]]\n",
    "\n",
    "model = get_model(\n",
    "    model_id=\"football-ball-detection-rejhg/4\", \n",
    "    api_key=\"fpgo7lotAA2MTZARBCtt\"\n",
    ")\n",
    "\n",
    "video_info = sv.VideoInfo.from_video_path(src)\n",
    "frame_generator = sv.get_video_frames_generator(src)\n",
    "w, h = video_info.width, video_info.height\n",
    "\n",
    "def callback(patch: np.ndarray) -> sv.Detections: \n",
    "    result = model.infer(frame, confidence=0.3)[0]\n",
    "    return sv.Detections.from_inference(result)\n",
    "\n",
    "slicer = sv.InferenceSlicer(\n",
    "    callback = callback,\n",
    "    overlap_filter = sv.OverlapFilter.NON_MAX_SUPPRESSION,\n",
    "    slice_wh = (w // 2 + 100, h // 2 + 100),\n",
    "    overlap_ratio_wh = None,\n",
    "    overlap_wh = (100, 100),\n",
    "    iou_threshold = 0.1\n",
    ")\n",
    "\n",
    "annotator = sv.TriangleAnnotator(\n",
    "    color=sv.Color.from_hex('#FF1493'),\n",
    "    height=20,\n",
    "    base=25\n",
    ")\n",
    "\n",
    "tracker = BallTracker()\n",
    "count=0\n",
    "with sv.VideoSink(target, video_info=video_info) as sink:\n",
    "    for frame in frame_generator:\n",
    "        detections = slicer(frame)\n",
    "        detections = tracker.update(detections)\n",
    "        print('--detection--',detections)\n",
    "        frame = annotator.annotate(scene=frame, detections=detections)\n",
    "        sink.write_frame(frame)\n",
    "        count+=1\n",
    "        if count==10:\n",
    "            break"
   ]
  },
  {
   "cell_type": "code",
   "execution_count": null,
   "metadata": {},
   "outputs": [],
   "source": []
  }
 ],
 "metadata": {
  "kernelspec": {
   "display_name": "soccer",
   "language": "python",
   "name": "python3"
  },
  "language_info": {
   "codemirror_mode": {
    "name": "ipython",
    "version": 3
   },
   "file_extension": ".py",
   "mimetype": "text/x-python",
   "name": "python",
   "nbconvert_exporter": "python",
   "pygments_lexer": "ipython3",
   "version": "3.8.20"
  }
 },
 "nbformat": 4,
 "nbformat_minor": 2
}
